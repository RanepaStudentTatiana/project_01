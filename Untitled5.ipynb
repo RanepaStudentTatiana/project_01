{
  "nbformat": 4,
  "nbformat_minor": 0,
  "metadata": {
    "colab": {
      "provenance": [],
      "authorship_tag": "ABX9TyM+CFHlpSPbDPbouJiBkluG",
      "include_colab_link": true
    },
    "kernelspec": {
      "name": "python3",
      "display_name": "Python 3"
    },
    "language_info": {
      "name": "python"
    }
  },
  "cells": [
    {
      "cell_type": "markdown",
      "metadata": {
        "id": "view-in-github",
        "colab_type": "text"
      },
      "source": [
        "<a href=\"https://colab.research.google.com/github/RanepaStudentTatiana/project_01/blob/main/Untitled5.ipynb\" target=\"_parent\"><img src=\"https://colab.research.google.com/assets/colab-badge.svg\" alt=\"Open In Colab\"/></a>"
      ]
    },
    {
      "cell_type": "code",
      "source": [
        "# Задача 4.1.\n",
        "# Домашнее задание на SQL\n",
        "\n",
        "# В базе данных teacher создайте таблицу Students\n",
        "\n",
        "# Структура таблицы: Student_Id - Integer, Student_Name - Text, School_Id - Integer (Primary key)\n",
        "\n",
        "# Наполните таблицу следующими данными:\n",
        "\n",
        "# 201, Иван, 1\n",
        "# 202, Петр, 2\n",
        "# 203, Анастасия, 3\n",
        "# 204, Игорь, 4\n",
        "\n",
        "# Напишите программу, с помощью которой по ID студента можно получать информацию о школе и студенте.\n",
        "\n",
        "# Формат вывода:\n",
        "\n",
        "# ID Студента:\n",
        "# Имя студента:\n",
        "# ID школы:\n",
        "# Название школы:\n",
        "import sqlite3\n",
        "\n",
        "connection = sqlite3.connect('Teatchers.db')\n",
        "cursor = connection.cursor()\n",
        "sqlquery = \"\"\"CREATE TABLE Students(\n",
        "School_Id INTEGER NOT NULL PRIMARY KEY,\n",
        "Students_Name TEXT NOT NULL,\n",
        "Students_Id INTEGER NOT NULL\n",
        ");\"\"\"\n",
        "cursor.execute(sqlquery)\n",
        "connection.commit()\n",
        "connection.close()\n",
        "\n",
        "import sqlite3\n",
        "\n",
        "connection = sqlite3.connect('Teatchers.db')\n",
        "cursor = connection.cursor()\n",
        "sqlquery = \"\"\"INSERT INTO Students (School_Id, Students_Name, Students_Id)\n",
        "VALUES\n",
        "('1', 'Иван', 201),\n",
        "('2', 'Петр', 202),\n",
        "('3', 'Анастасия', 203),\n",
        "('4', 'Игорь', 204);\"\"\"\n",
        "cursor.execute(sqlquery)\n",
        "connection.commit()\n",
        "connection.close()\n",
        "\n",
        "import sqlite3\n",
        "def get_connection():\n",
        "  connection = sqlite3.connect('Teatchers.db')\n",
        "  return connection\n",
        "def close_connection(connection):\n",
        "  if connection:\n",
        "    connection.close()\n",
        "def  get_student_detail(student_id):\n",
        "  try:\n",
        "    connection = get_connection()\n",
        "    cursor = connection.cursor()\n",
        "    select_query = \"SELECT * FROM Students WHERE Students_Id = ? \"\n",
        "    cursor.execute(select_query, (student_id,))\n",
        "    records = cursor.fetchall()\n",
        "    close_connection(connection)\n",
        "    print(\"Данные по школе\")\n",
        "    for row in records:\n",
        "      print(\"ID школы\", row[0])\n",
        "      print(\"Имя студента\", row[1])\n",
        "      print(\"ID студента\", row[2])\n",
        "  except(Exception, sqlite3.Error) as error:\n",
        "    print(\"Ошибка в получении данных: \", error)\n",
        "\n",
        "x = int(input(\"Введи ID:\"))\n",
        "get_student_detail(x)\n",
        "\n",
        "\n",
        "\n",
        "\n",
        "\n",
        "\n",
        "\n",
        "\n",
        "\n",
        "\n",
        "\n"
      ],
      "metadata": {
        "id": "VBRv8m9Hw6ko",
        "colab": {
          "base_uri": "https://localhost:8080/"
        },
        "outputId": "4220d31f-c869-43e8-8a74-bec771a9b4a7"
      },
      "execution_count": 8,
      "outputs": [
        {
          "output_type": "stream",
          "name": "stdout",
          "text": [
            "Введи ID:201\n",
            "Данные по школе\n",
            "ID школы 1\n",
            "Имя студента Иван\n",
            "ID студента 201\n"
          ]
        }
      ]
    }
  ]
}